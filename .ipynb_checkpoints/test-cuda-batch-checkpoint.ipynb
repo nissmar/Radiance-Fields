{
 "cells": [
  {
   "cell_type": "code",
   "execution_count": 1,
   "id": "742c615d",
   "metadata": {},
   "outputs": [],
   "source": [
    "import torch\n",
    "from tqdm import tqdm\n",
    "import numpy as np\n",
    "import matplotlib.pyplot as plt\n",
    "import torch\n",
    "from torch.autograd import Variable\n",
    "from torch.utils.data import Dataset\n",
    "\n",
    "from utilities import *\n",
    "import os\n",
    "\n",
    "\n",
    "os.environ['CUDA_LAUNCH_BLOCKING'] = \"1\"\n",
    "device='cuda'\n"
   ]
  },
  {
   "cell_type": "code",
   "execution_count": 2,
   "id": "607d238b",
   "metadata": {},
   "outputs": [
    {
     "name": "stdout",
     "output_type": "stream",
     "text": [
      "LOAD DATA ../lego/train\n"
     ]
    },
    {
     "name": "stderr",
     "output_type": "stream",
     "text": [
      "100%|█████████████████████████████████████████| 100/100 [00:02<00:00, 48.52it/s]\n"
     ]
    }
   ],
   "source": [
    "focal, all_c2w, all_gt = get_data(\"../lego\")\n",
    "H, W = all_gt[0].shape[:2]"
   ]
  },
  {
   "cell_type": "code",
   "execution_count": 3,
   "id": "b7be62bc",
   "metadata": {},
   "outputs": [],
   "source": [
    "class VoxelGrid():\n",
    "    def __init__(self, size=128, bound_w=1):\n",
    "        self.size = size\n",
    "        self.bound_w = bound_w\n",
    "        self.colors =  Variable(torch.rand((size*size*size,3)).to(device), requires_grad=True)\n",
    "        self.opacities =  Variable(torch.rand((size*size*size)).to(device), requires_grad=True)\n",
    "        x = np.linspace(-bound_w,bound_w,size)\n",
    "        y = np.linspace(-bound_w,bound_w,size)\n",
    "        z = np.linspace(-bound_w,bound_w,size)\n",
    "        self.meshgrid = np.meshgrid(x,y,z)\n",
    "\n",
    "    def in_bounds_indices(self, p):\n",
    "        ''' input: Nx3 array\n",
    "            output: index of valid arrays'''\n",
    "        in_x = (p[...,0]>=0)*(p[...,0]<self.size)\n",
    "        in_y = (p[...,1]>=0)*(p[...,1]<self.size)\n",
    "        in_z = (p[...,2]>=0)*(p[...,2]<self.size)\n",
    "        return in_x*in_y*in_z\n",
    "    \n",
    "    def descartes_to_indices(self, p):\n",
    "        ''' input: Nx3 array, 3D points\n",
    "            out: Nx3 array, 3D indices in [0, size['''\n",
    "        q = torch.zeros_like(p)\n",
    "        q[..., 0] = (p[...,0]+self.bound_w)/(2*self.bound_w)*(self.size-1)\n",
    "        q[..., 1] = (p[...,1]+self.bound_w)/(2*self.bound_w)*(self.size-1)\n",
    "        q[..., 2] = (p[...,2]+self.bound_w)/(2*self.bound_w)*(self.size-1)\n",
    "        return q\n",
    "\n",
    "    def flatten_3d_indices(self, inds_3d):\n",
    "        ''' input: Nx3 array of indices\n",
    "            out: N array of flatten indices'''\n",
    "        return inds_3d[...,0] + self.size*inds_3d[...,1] + self.size*self.size*inds_3d[...,2]\n",
    "\n",
    "    def render_ray(self, p):\n",
    "        # extract valid indices\n",
    "        inds_3d = self.descartes_to_indices(p)\n",
    "        valid_inds = torch.arange(len(p))[self.in_bounds_indices(torch.floor(inds_3d))]\n",
    "\n",
    "        # meshgrid coordinates\n",
    "        mesh_coords = self.flatten_3d_indices(inds_3d[valid_inds].long())\n",
    "\n",
    "        colors = self.colors[mesh_coords]\n",
    "        opacities = self.opacities[mesh_coords]\n",
    "        cumsum_opacities = torch.cumsum(opacities, 0)\n",
    "        \n",
    "        transp_term = torch.exp(-cumsum_opacities)*(1-torch.exp(-opacities))\n",
    "        return (colors*transp_term[..., None]).sum(0)\n",
    "    \n",
    "    def render_rays(self, p):\n",
    "        # extract valid indices\n",
    "        inds_3d = self.descartes_to_indices(p)\n",
    "        in_bounds = self.in_bounds_indices(torch.floor(inds_3d).to(device))\n",
    "        # meshgrid coordinates\n",
    "        mesh_coords = self.flatten_3d_indices(inds_3d.long())\n",
    "        mesh_coords[torch.logical_not(in_bounds)] = 0\n",
    "        \n",
    "        colors = self.colors[mesh_coords]\n",
    "        opacities = self.opacities[mesh_coords]*in_bounds.float()\n",
    "        cumsum_opacities = torch.cumsum(opacities, 1)\n",
    "        \n",
    "        transp_term = torch.exp(-cumsum_opacities)*(1-torch.exp(-opacities))\n",
    "        return (colors*transp_term[..., None]).sum(1)\n",
    "\n",
    "    def update_grads(self, lr):\n",
    "        self.colors.data -= lr * self.colors.grad.data\n",
    "        self.colors.grad.data.zero_()\n",
    "        self.opacities.data -= lr * self.opacities.grad.data\n",
    "        self.opacities.grad.data.zero_()\n",
    "    \n",
    "    def copy():\n",
    "        # TODO\n",
    "        pass "
   ]
  },
  {
   "cell_type": "code",
   "execution_count": 36,
   "id": "89564588",
   "metadata": {},
   "outputs": [],
   "source": [
    "red = 16\n",
    "target_ims = [gt[::red,::red,:] for gt in all_gt]\n",
    "rays_or_dir = [get_rays_np(H,W, focal, c2w) for c2w in all_c2w]\n",
    "N_points=100\n",
    "rays = [e[0][::red,::red,:, None] + np.arange(N_points)/10*e[1][::red, ::red,:, None] for e in rays_or_dir]"
   ]
  },
  {
   "cell_type": "code",
   "execution_count": 5,
   "id": "bcaabf58",
   "metadata": {},
   "outputs": [
    {
     "data": {
      "text/plain": [
       "50"
      ]
     },
     "execution_count": 5,
     "metadata": {},
     "output_type": "execute_result"
    }
   ],
   "source": [
    "im_w = target_ims[0].shape[0]\n",
    "im_w\n"
   ]
  },
  {
   "cell_type": "code",
   "execution_count": 12,
   "id": "7fbe109e",
   "metadata": {},
   "outputs": [
    {
     "name": "stderr",
     "output_type": "stream",
     "text": [
      "100%|███████████████████████████████████████████| 50/50 [00:06<00:00,  8.01it/s]\n"
     ]
    }
   ],
   "source": [
    "class RayDataset(Dataset):\n",
    "    def __init__(self, target_ims, rays):\n",
    "        self.im_w = target_ims[0].shape[0]\n",
    "\n",
    "        self.tensor_rays = []\n",
    "        self.tensor_target_pixels = []\n",
    "        \n",
    "        for image_ind in tqdm(range(im_w)):\n",
    "            for i in range(im_w):\n",
    "                for j in range(im_w):\n",
    "                    self.tensor_rays.append(torch.tensor(rays[image_ind][i,j], dtype=torch.float32).to(device).T)\n",
    "                    self.tensor_target_pixels.append(torch.tensor(target_ims[image_ind][i,j], dtype=torch.float32).to(device))\n",
    "\n",
    "    def __getitem__(self, index):\n",
    "        return self.tensor_rays[index], self.tensor_target_pixels[index]\n",
    "    def __len__(self):\n",
    "        return len(self.tensor_rays)\n",
    "\n",
    "D = RayDataset(target_ims, rays)"
   ]
  },
  {
   "cell_type": "code",
   "execution_count": 60,
   "id": "9916c5a7",
   "metadata": {},
   "outputs": [],
   "source": [
    "VG = VoxelGrid(40, 1)"
   ]
  },
  {
   "cell_type": "code",
   "execution_count": 61,
   "id": "2f74e66e",
   "metadata": {},
   "outputs": [],
   "source": [
    "\n",
    "train_loader = torch.utils.data.DataLoader(D, batch_size=10000, shuffle=True)\n",
    "\n"
   ]
  },
  {
   "cell_type": "code",
   "execution_count": 108,
   "id": "9497d2aa",
   "metadata": {},
   "outputs": [
    {
     "name": "stderr",
     "output_type": "stream",
     "text": [
      "100%|█████████████████████████████████████████████| 5/5 [01:31<00:00, 18.32s/it]\n"
     ]
    }
   ],
   "source": [
    "def train():\n",
    "    losses=[]\n",
    "    for batch_idx, (rays, pixels) in enumerate(train_loader):\n",
    "        pix_estims = VG.render_rays(rays)\n",
    "        loss = ((pix_estims-pixels)**2).sum()/rays.shape[0]\n",
    "        loss.backward()\n",
    "        losses.append(loss.item())\n",
    "        VG.update_grads(1000)\n",
    "    return losses\n",
    "\n",
    "for i in tqdm(range(5)):\n",
    "    train()"
   ]
  },
  {
   "cell_type": "code",
   "execution_count": 104,
   "id": "d1d36d06",
   "metadata": {},
   "outputs": [
    {
     "name": "stderr",
     "output_type": "stream",
     "text": [
      "Clipping input data to the valid range for imshow with RGB data ([0..1] for floats or [0..255] for integers).\n"
     ]
    },
    {
     "data": {
      "text/plain": [
       "<matplotlib.image.AxesImage at 0x7f6432890370>"
      ]
     },
     "execution_count": 104,
     "metadata": {},
     "output_type": "execute_result"
    },
    {
     "data": {
      "image/png": "[encoded data removed]",
      "text/plain": [
       "<Figure size 432x288 with 1 Axes>"
      ]
     },
     "metadata": {
      "needs_background": "light"
     },
     "output_type": "display_data"
    }
   ],
   "source": [
    "image_ind=11\n",
    "im_w = target_ims[0].shape[0]\n",
    "tensor_rays_img = torch.tensor(rays[image_ind], dtype=torch.float32).to(device).permute((0,1,3,2)).view((im_w*im_w,N_points,3))\n",
    "\n",
    "new_im = VG.render_rays(tensor_rays_img).view((im_w,im_w,3)).cpu().detach().numpy()\n",
    "\n",
    "plt.imshow(new_im)"
   ]
  },
  {
   "cell_type": "code",
   "execution_count": 105,
   "id": "d83b0b24",
   "metadata": {},
   "outputs": [
    {
     "data": {
      "text/plain": [
       "<matplotlib.image.AxesImage at 0x7f6432864ee0>"
      ]
     },
     "execution_count": 105,
     "metadata": {},
     "output_type": "execute_result"
    },
    {
     "data": {
      "image/png": "[encoded data removed]",
      "text/plain": [
       "<Figure size 432x288 with 1 Axes>"
      ]
     },
     "metadata": {
      "needs_background": "light"
     },
     "output_type": "display_data"
    }
   ],
   "source": [
    "plt.imshow(target_ims[image_ind])"
   ]
  },
  {
   "cell_type": "code",
   "execution_count": 106,
   "id": "e1a56a5c",
   "metadata": {},
   "outputs": [
    {
     "data": {
      "text/plain": [
       "(array([7.9800e+02, 1.1930e+04, 2.2843e+04, 1.8450e+04, 8.8300e+03,\n",
       "        1.1010e+03, 4.4000e+01, 1.0000e+00, 0.0000e+00, 3.0000e+00]),\n",
       " array([-0.61912161, -0.2462488 ,  0.12662401,  0.49949682,  0.87236964,\n",
       "         1.24524245,  1.61811526,  1.99098807,  2.36386088,  2.73673369,\n",
       "         3.1096065 ]),\n",
       " <BarContainer object of 10 artists>)"
      ]
     },
     "execution_count": 106,
     "metadata": {},
     "output_type": "execute_result"
    },
    {
     "data": {
      "image/png": "[encoded data removed]",
      "text/plain": [
       "<Figure size 432x288 with 1 Axes>"
      ]
     },
     "metadata": {
      "needs_background": "light"
     },
     "output_type": "display_data"
    }
   ],
   "source": [
    "plt.hist(VG.opacities.tolist())"
   ]
  },
  {
   "cell_type": "code",
   "execution_count": 107,
   "id": "e58c9ddf",
   "metadata": {},
   "outputs": [
    {
     "ename": "AttributeError",
     "evalue": "'VoxelGrid' object has no attribute 'copy'",
     "output_type": "error",
     "traceback": [
      "\u001b[0;31m---------------------------------------------------------------------------\u001b[0m",
      "\u001b[0;31mAttributeError\u001b[0m                            Traceback (most recent call last)",
      "\u001b[0;32m/tmp/ipykernel_1479/2624458318.py\u001b[0m in \u001b[0;36m<module>\u001b[0;34m\u001b[0m\n\u001b[0;32m----> 1\u001b[0;31m \u001b[0mVG2\u001b[0m \u001b[0;34m=\u001b[0m \u001b[0mVG\u001b[0m\u001b[0;34m.\u001b[0m\u001b[0mcopy\u001b[0m\u001b[0;34m(\u001b[0m\u001b[0;34m)\u001b[0m\u001b[0;34m\u001b[0m\u001b[0;34m\u001b[0m\u001b[0m\n\u001b[0m",
      "\u001b[0;31mAttributeError\u001b[0m: 'VoxelGrid' object has no attribute 'copy'"
     ]
    }
   ],
   "source": [
    "VG2 = VG.copy()"
   ]
  },
  {
   "cell_type": "code",
   "execution_count": null,
   "id": "8e508735",
   "metadata": {},
   "outputs": [],
   "source": []
  }
 ],
 "metadata": {
  "kernelspec": {
   "display_name": "Python 3 (ipykernel)",
   "language": "python",
   "name": "python3"
  },
  "language_info": {
   "codemirror_mode": {
    "name": "ipython",
    "version": 3
   },
   "file_extension": ".py",
   "mimetype": "text/x-python",
   "name": "python",
   "nbconvert_exporter": "python",
   "pygments_lexer": "ipython3",
   "version": "3.8.12"
  }
 },
 "nbformat": 4,
 "nbformat_minor": 5
}
